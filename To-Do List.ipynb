{
 "cells": [
  {
   "cell_type": "markdown",
   "metadata": {},
   "source": [
    "Creating database file"
   ]
  },
  {
   "cell_type": "code",
   "execution_count": 1,
   "metadata": {},
   "outputs": [],
   "source": [
    "from sqlalchemy import create_engine\n",
    "\n",
    "engine = create_engine('sqlite:///todo.db?check_same_thread=False')"
   ]
  },
  {
   "cell_type": "markdown",
   "metadata": {},
   "source": [
    "Creating a table inside database"
   ]
  },
  {
   "cell_type": "code",
   "execution_count": 2,
   "metadata": {},
   "outputs": [],
   "source": [
    "from sqlalchemy.ext.declarative import declarative_base\n",
    "from sqlalchemy import Column, Integer, String, Date\n",
    "from datetime import datetime, timedelta\n",
    "import sys\n",
    "\n",
    "Base = declarative_base()\n",
    "\n",
    "class Table(Base):\n",
    "    __tablename__ = 'task'\n",
    "    id = Column(Integer, primary_key=True)\n",
    "    task = Column(String)\n",
    "    deadline = Column(Date, default=datetime.today())\n",
    " \n",
    "    def __repr__(self):\n",
    "        return self.task"
   ]
  },
  {
   "cell_type": "markdown",
   "metadata": {},
   "source": [
    "Creating a table in the database by generating SQL queries according to the models I've described"
   ]
  },
  {
   "cell_type": "code",
   "execution_count": 3,
   "metadata": {},
   "outputs": [],
   "source": [
    "Base.metadata.create_all(engine)"
   ]
  },
  {
   "cell_type": "markdown",
   "metadata": {},
   "source": [
    "Accessing the database and store data in it; creating a session"
   ]
  },
  {
   "cell_type": "code",
   "execution_count": 4,
   "metadata": {},
   "outputs": [],
   "source": [
    "from sqlalchemy.orm import sessionmaker\n",
    " \n",
    "Session = sessionmaker(bind=engine)\n",
    "session = Session()"
   ]
  },
  {
   "cell_type": "markdown",
   "metadata": {},
   "source": [
    "Functions"
   ]
  },
  {
   "cell_type": "code",
   "execution_count": 18,
   "metadata": {},
   "outputs": [],
   "source": [
    "def menu():\n",
    "    print(\"1) Today's tasks\")\n",
    "    print(\"2) Week's tasks\")\n",
    "    print(\"3) All tasks\")\n",
    "    print(\"4) Missed tasks\")\n",
    "    print(\"5) Add task\")\n",
    "    print(\"6) Delete task\")\n",
    "    print(\"0) Exit\")\n",
    "\n",
    "    \n",
    "#Prints all tasks for today\n",
    "def today_tasks():\n",
    "    today = datetime.today()\n",
    "    rows = session.query(Table).filter(Table.deadline == today.date()).all()\n",
    "    \n",
    "    print('Today ' + str(today.day) + ' ' + today.strftime('%b') + ':')\n",
    "    \n",
    "    if not rows:\n",
    "        print('Nothing to do!')\n",
    "    else: \n",
    "        i = 1\n",
    "        for row in rows:\n",
    "            print(str(i) + '. ' + row.task)\n",
    "            i += 1\n",
    "\n",
    "            \n",
    "#Prints all tasks from last 7 days \n",
    "def week_tasks():\n",
    "    today = datetime.today()\n",
    "    for j in range(7):\n",
    "        rows = session.query(Table).filter(Table.deadline == today.date()).all()\n",
    "    \n",
    "        print(today.strftime(\"%A\") + ' ' + str(today.day) + ' ' + today.strftime('%b') + ':')\n",
    "    \n",
    "        if not rows:\n",
    "            print('Nothing to do!')\n",
    "        else: \n",
    "            i = 1\n",
    "            for row in rows:\n",
    "                print(str(i) + '. ' + row.task)\n",
    "                i += 1\n",
    "        today = today + timedelta(days=1)\n",
    "        print()\n",
    " \n",
    "\n",
    "#Prints all tasks sorted by deadline\n",
    "def all_tasks():\n",
    "    rows = session.query(Table).order_by(Table.deadline).all()\n",
    "    i = 1\n",
    "    for row in rows:\n",
    "        if row.task != '0':\n",
    "            print(str(i) + '. ' + row.task + '. ' + str(row.deadline.day) + ' ' + row.deadline.strftime('%b'))\n",
    "            i += 1\n",
    "        else:\n",
    "            session.delete(row)\n",
    "    session.commit()\n",
    "    print()\n",
    "    return i\n",
    "    \n",
    "    \n",
    "#Prints all tasks whose deadline was missed (tasks whose deadline date is earlier that today's date)\n",
    "def missed_tasks():\n",
    "    rows = session.query(Table).filter(Table.deadline < datetime.today().date()).order_by(Table.deadline).all()\n",
    "    i = 1\n",
    "    if not rows:\n",
    "        print('Nothing is missed')\n",
    "    else:\n",
    "        i = 1\n",
    "        for row in rows:\n",
    "            if row.task != '0':\n",
    "                print(str(i) + '. ' + row.task + '. ' + str(row.deadline.day) + ' ' + row.deadline.strftime('%b'))\n",
    "                i += 1\n",
    "        print()\n",
    "    \n",
    "    \n",
    "#Asks for task description and saves it in the database\n",
    "def add_task():\n",
    "    print('Enter task: ')\n",
    "    my_task = input()\n",
    "    print('Enter deadline: ')\n",
    "    my_deadline = input()\n",
    "    new_task = Table(task = my_task, deadline = datetime.strptime(my_deadline, '%Y-%m-%d').date())\n",
    "    session.add(new_task)\n",
    "    session.commit()\n",
    "    print('The task has been added!')\n",
    " \n",
    "\n",
    "#Deletes the chosen task\n",
    "def delete_task():    \n",
    "    if (all_tasks() == 1):\n",
    "        print('Nothing to delete')\n",
    "    else:\n",
    "        print('Choose the number of task you want to delete')\n",
    "        rows = session.query(Table).order_by(Table.deadline).all()\n",
    "        choice = input()\n",
    "        specific_row = rows[int(choice)-1]\n",
    "        session.delete(specific_row)\n",
    "        \n",
    "        \n",
    "    session.commit()\n",
    "    print('The task has been deleted')\n",
    "    \n",
    "def error():\n",
    "    print('Invalid argument!')"
   ]
  },
  {
   "cell_type": "markdown",
   "metadata": {},
   "source": [
    "Main"
   ]
  },
  {
   "cell_type": "code",
   "execution_count": 19,
   "metadata": {},
   "outputs": [
    {
     "name": "stdout",
     "output_type": "stream",
     "text": [
      "1) Today's tasks\n",
      "2) Week's tasks\n",
      "3) All tasks\n",
      "4) Missed tasks\n",
      "5) Add task\n",
      "6) Delete task\n",
      "0) Exit\n",
      "6\n",
      "1. Play the piano . 15 Jul\n",
      "2. Watch \"13 Reasons\". 15 Jul\n",
      "3. Call with Zosia. 4 Aug\n",
      "4. Play the guitar . 5 Aug\n",
      "5. Learn Python. 5 Aug\n",
      "\n",
      "Choose the number of task you want to delete\n",
      "2\n",
      "The task has been deleted\n",
      "1) Today's tasks\n",
      "2) Week's tasks\n",
      "3) All tasks\n",
      "4) Missed tasks\n",
      "5) Add task\n",
      "6) Delete task\n",
      "0) Exit\n",
      "3\n",
      "1. Play the piano . 15 Jul\n",
      "2. Call with Zosia. 4 Aug\n",
      "3. Play the guitar . 5 Aug\n",
      "4. Learn Python. 5 Aug\n",
      "\n",
      "1) Today's tasks\n",
      "2) Week's tasks\n",
      "3) All tasks\n",
      "4) Missed tasks\n",
      "5) Add task\n",
      "6) Delete task\n",
      "0) Exit\n",
      "0\n",
      "Bye!\n"
     ]
    }
   ],
   "source": [
    "while(True):\n",
    "    menu()\n",
    "    choice = input()\n",
    "    if choice == '1':\n",
    "        today_tasks()\n",
    "    elif choice == '2':\n",
    "        week_tasks()\n",
    "    elif choice == '3':\n",
    "        all_tasks()  \n",
    "    elif choice == '4':\n",
    "        missed_tasks()\n",
    "    elif choice == '5':\n",
    "        add_task() \n",
    "    elif choice == '6':\n",
    "        delete_task() \n",
    "    elif choice == '0':\n",
    "        print('Bye!')\n",
    "        break\n",
    "    else:\n",
    "        error()"
   ]
  },
  {
   "cell_type": "code",
   "execution_count": null,
   "metadata": {},
   "outputs": [],
   "source": []
  }
 ],
 "metadata": {
  "kernelspec": {
   "display_name": "Python 3",
   "language": "python",
   "name": "python3"
  },
  "language_info": {
   "codemirror_mode": {
    "name": "ipython",
    "version": 3
   },
   "file_extension": ".py",
   "mimetype": "text/x-python",
   "name": "python",
   "nbconvert_exporter": "python",
   "pygments_lexer": "ipython3",
   "version": "3.8.2"
  }
 },
 "nbformat": 4,
 "nbformat_minor": 4
}
